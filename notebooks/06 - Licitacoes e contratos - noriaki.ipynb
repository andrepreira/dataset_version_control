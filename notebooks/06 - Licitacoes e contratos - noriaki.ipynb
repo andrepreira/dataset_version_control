{
 "cells": [
  {
   "cell_type": "code",
   "execution_count": 9,
   "metadata": {},
   "outputs": [],
   "source": [
    "import collections\n",
    "import re\n",
    "import glob\n",
    "import tqdm\n",
    "import codecs\n",
    "import unidecode\n",
    "from elasticsearch import Elasticsearch\n",
    "import json\n",
    "\n",
    "def save_to_json(path, lista):\n",
    "    with open(path, 'w') as f:\n",
    "        json.dump(lista, f, indent = 4)\n",
    "        \n",
    "def readFile(path, size=-1, clean=True):\n",
    "    text = ''\n",
    "\n",
    "    try:\n",
    "        with codecs.open(path,'r', encoding='utf-8') as f:\n",
    "            text = f.read(size)\n",
    "    except:\n",
    "        with codecs.open(path,'r', encoding='latin-1') as f:\n",
    "            text = f.read(size)\n",
    "\n",
    "    if clean:\n",
    "        text = unidecode.unidecode(text)\n",
    "        #text = remove_extra_spaces.sub(' ', text)\n",
    "    return text"
   ]
  },
  {
   "cell_type": "code",
   "execution_count": null,
   "metadata": {},
   "outputs": [],
   "source": []
  },
  {
   "cell_type": "code",
   "execution_count": 10,
   "metadata": {},
   "outputs": [],
   "source": [
    "class EventSearcher(object):\n",
    "\n",
    "    def __init__(self):\n",
    "        self.events = collections.OrderedDict([\n",
    "            ('__label__aviso_de_licitacao-tomada_de_precos', [r'TOMADA DE PRECOS']),            \n",
    "            ('__label__pregao', [r'PREGAO']),\n",
    "            ('__label__convite', [r'CARTA CONVITE', r'CONVITE - \\d']),\n",
    "            ('__label__credenciamento', [r'\\sCREDENCIAMENTO']),\n",
    "            ('__label__concorrencia', [r'\\sCONCORRENCIA']),\n",
    "            ('__label__pregaoeletronico', [r'PREGAO ELETRONICO']),\n",
    "            ('__label__pregaopresencial', [r'PREGAO PRESENCIAL']),\n",
    "            ('__label__leilao', [r'\\sLEILAO']),\n",
    "            ('__label__dialogo', [r'\\sDIALOGO']),\n",
    "            ('__label__extrato_de_contrato', [r'EXTRATO DE CONTRATO']),            \n",
    "            ('__label__extrato_de_termo_aditivo', [r'TERMO ADITIVO']), \n",
    "            #CONTRATACAO DIRETA\n",
    "            ('__label__extrato_de_dispensa_de_licitacao', [r'DISPENSA DE (LICITACAO|PROCESSO LICITATORIO)']),\n",
    "            ('__label__extrato_de_inexigibilidade_de_licitacao ', [r'INEXIGIBILIDADE DE LICITACAO', r'INEXIGIBILIDADE']),            \n",
    "            ('__label__contratacao_direta', [r'CONTRATACAO DIRETA']),\n",
    "            ('__label__aviso_de_licitacao ', [r'AVISO DE LICITACAO']),            \n",
    "            ('__label__aviso_de_licitacao-pregao', [r'\\sLICITACAO'])            \n",
    "        ])\n",
    "        \n",
    "        self.events_regex = {}\n",
    "        \n",
    "        for event in self.events.keys():\n",
    "            self.events_regex[event] = []\n",
    "\n",
    "            for regex in self.events[event]:\n",
    "                regex = regex.replace(' ', r'\\s*')\n",
    "                self.events_regex[event].append(re.compile(regex, re.DOTALL | re.MULTILINE | re.IGNORECASE))\n",
    "    \n",
    "        \n",
    "    def search(self, snippet):\n",
    "        for event in self.events.keys():\n",
    "            for regex in self.events_regex[event]:\n",
    "                match = regex.search(snippet)\n",
    "                if match is not None:\n",
    "                    return event\n",
    "\n",
    "        return None"
   ]
  },
  {
   "cell_type": "code",
   "execution_count": 11,
   "metadata": {},
   "outputs": [
    {
     "name": "stdout",
     "output_type": "stream",
     "text": [
      "15078\n",
      "31158\n",
      "46236\n"
     ]
    }
   ],
   "source": [
    "maceio = glob.glob('/var/projects/tceal/materias/executivo/municipal/maceio/prefeitura/edicoes/2021/*/*/*.txt')\n",
    "print(len(maceio))\n",
    "\n",
    "ama = glob.glob('/var/projects/tceal/materias/executivo/municipal/ama/edicoes/2021/*/*/*.txt')\n",
    "print(len(ama))\n",
    "\n",
    "paths = maceio + ama\n",
    "print(len(paths))"
   ]
  },
  {
   "cell_type": "code",
   "execution_count": 12,
   "metadata": {},
   "outputs": [],
   "source": [
    "ev = EventSearcher()"
   ]
  },
  {
   "cell_type": "code",
   "execution_count": null,
   "metadata": {},
   "outputs": [],
   "source": []
  },
  {
   "cell_type": "code",
   "execution_count": 13,
   "metadata": {},
   "outputs": [
    {
     "name": "stderr",
     "output_type": "stream",
     "text": [
      "100%|██████████| 46236/46236 [00:13<00:00, 3461.16it/s]\n"
     ]
    }
   ],
   "source": [
    "resultados = []\n",
    "for path in tqdm.tqdm(paths):\n",
    "    text = readFile(path)\n",
    "    classe = ev.search(text)\n",
    "    resultados.append({\n",
    "        'tipo': classe,\n",
    "        'path': path,\n",
    "        'text': text\n",
    "    })\n",
    "    "
   ]
  },
  {
   "cell_type": "code",
   "execution_count": 14,
   "metadata": {},
   "outputs": [
    {
     "name": "stdout",
     "output_type": "stream",
     "text": [
      "21243\n"
     ]
    }
   ],
   "source": [
    "resultados = [r for r in resultados if r['tipo'] != None]\n",
    "print(len(resultados))\n",
    "#13852\n",
    "#17122"
   ]
  },
  {
   "cell_type": "code",
   "execution_count": 53,
   "metadata": {},
   "outputs": [],
   "source": [
    "def get_setting():\n",
    "    return {\n",
    "              'analysis': {\n",
    "                    'analyzer': {\n",
    "                        'comma': {'pattern': ';', 'type': 'pattern'},\n",
    "                        'br_analyzer': {\n",
    "                            'filter': ['lowercase', 'asciifolding'],\n",
    "                            'type': 'custom',\n",
    "                            'tokenizer': 'standard'\n",
    "                        }\n",
    "                    }\n",
    "                }\n",
    "            }"
   ]
  },
  {
   "cell_type": "code",
   "execution_count": 54,
   "metadata": {},
   "outputs": [],
   "source": [
    "def get_mapping():\n",
    "    return {\n",
    "        'properties': {\n",
    "            'materia': {\n",
    "                'properties': {                    \n",
    "                    'path': {\n",
    "                        'type': 'text',\n",
    "                        'fields': {\n",
    "                            'keyword': {\n",
    "                                'type': 'keyword',\n",
    "                                'ignore_above': 256\n",
    "                            }\n",
    "                        }\n",
    "                    },\n",
    "                    'tipo': {\n",
    "                        'type': 'text',\n",
    "                        'fields': {\n",
    "                            'keyword': {\n",
    "                                'type': 'keyword',\n",
    "                                'ignore_above': 256\n",
    "                            }\n",
    "                        }\n",
    "                    },\n",
    "                    'snippet': {\n",
    "                        'type': 'text',\n",
    "                        'analyzer': 'br_analyzer'\n",
    "                    },\n",
    "                    'day': {\n",
    "                        'type': 'text',\n",
    "                        'fields': {\n",
    "                            'keyword': {\n",
    "                                'type': 'keyword',\n",
    "                                'ignore_above': 256\n",
    "                            }\n",
    "                        }\n",
    "                    },\n",
    "                    'month': {\n",
    "                        'type': 'text',\n",
    "                        'fields': {\n",
    "                            'keyword': {\n",
    "                                'type': 'keyword',\n",
    "                                'ignore_above': 256\n",
    "                            }\n",
    "                        }\n",
    "                    },\n",
    "                    'year': {\n",
    "                        'type': 'text',\n",
    "                        'fields': {\n",
    "                            'keyword': {\n",
    "                                'type': 'keyword',\n",
    "                                'ignore_above': 256\n",
    "                            }\n",
    "                        }\n",
    "                    },\n",
    "                    'edition_number': {\n",
    "                        'type': 'text',\n",
    "                        'fields': {\n",
    "                            'keyword': {\n",
    "                                'type': 'keyword',\n",
    "                                'ignore_above': 256\n",
    "                            }\n",
    "                        }\n",
    "                    },\n",
    "                    'edition_type': {\n",
    "                        'type': 'text',\n",
    "                        'fields': {\n",
    "                            'keyword': {\n",
    "                                'type': 'keyword',\n",
    "                                'ignore_above': 256\n",
    "                            }\n",
    "                        }\n",
    "                    },\n",
    "                    'date': {\n",
    "                        'type': 'date',\n",
    "                        'format': 'yyyy-MM-dd'\n",
    "                    }\n",
    "                }\n",
    "            }\n",
    "        }\n",
    "    }"
   ]
  },
  {
   "cell_type": "code",
   "execution_count": 55,
   "metadata": {},
   "outputs": [],
   "source": [
    "settings = get_setting()\n",
    "mappings = get_mapping()\n",
    "\n",
    "config = {\n",
    "    \"settings\": {\n",
    "        \"index\": settings\n",
    "    },\n",
    "    \"mappings\" : mappings\n",
    "}"
   ]
  },
  {
   "cell_type": "code",
   "execution_count": 42,
   "metadata": {},
   "outputs": [],
   "source": [
    "es = Elasticsearch(['http://localhost:9200'], http_auth=('elastic', 'elastic@ais.mining'))\n",
    "index_name = 'mineracao-maceio-ama-licitacoes-contratos'"
   ]
  },
  {
   "cell_type": "code",
   "execution_count": 45,
   "metadata": {},
   "outputs": [
    {
     "data": {
      "text/plain": [
       "{'acknowledged': True,\n",
       " 'shards_acknowledged': True,\n",
       " 'index': 'mineracao-maceio-ama-licitacoes-contratos'}"
      ]
     },
     "execution_count": 45,
     "metadata": {},
     "output_type": "execute_result"
    }
   ],
   "source": [
    "es.indices.create(body=config, index=index_name)"
   ]
  },
  {
   "cell_type": "code",
   "execution_count": 44,
   "metadata": {},
   "outputs": [
    {
     "data": {
      "text/plain": [
       "{'acknowledged': True}"
      ]
     },
     "execution_count": 44,
     "metadata": {},
     "output_type": "execute_result"
    }
   ],
   "source": [
    "es.indices.delete(index=index_name)"
   ]
  },
  {
   "cell_type": "code",
   "execution_count": 15,
   "metadata": {},
   "outputs": [
    {
     "name": "stderr",
     "output_type": "stream",
     "text": [
      "100%|██████████| 21243/21243 [00:00<00:00, 459676.73it/s]\n"
     ]
    }
   ],
   "source": [
    "infos = json.load(open('municipios_materia.json'))\n",
    "\n",
    "resultados_ = []\n",
    "for result in tqdm.tqdm(resultados):\n",
    "    info = infos[result['path']]\n",
    "    \n",
    "    info.update(result)\n",
    "    \n",
    "    #ret = es.index(index=index_name, body=info)\n",
    "    resultados_.append(info)"
   ]
  },
  {
   "cell_type": "code",
   "execution_count": 16,
   "metadata": {},
   "outputs": [],
   "source": [
    "save_to_json('licitacoes_contratos3.json', resultados_)"
   ]
  },
  {
   "cell_type": "code",
   "execution_count": null,
   "metadata": {},
   "outputs": [],
   "source": []
  },
  {
   "cell_type": "code",
   "execution_count": null,
   "metadata": {},
   "outputs": [],
   "source": []
  }
 ],
 "metadata": {
  "kernelspec": {
   "display_name": "Python 3 (ipykernel)",
   "language": "python",
   "name": "python3"
  },
  "language_info": {
   "codemirror_mode": {
    "name": "ipython",
    "version": 3
   },
   "file_extension": ".py",
   "mimetype": "text/x-python",
   "name": "python",
   "nbconvert_exporter": "python",
   "pygments_lexer": "ipython3",
   "version": "3.8.10"
  }
 },
 "nbformat": 4,
 "nbformat_minor": 4
}
